{
 "cells": [
  {
   "cell_type": "code",
   "execution_count": 23,
   "metadata": {},
   "outputs": [],
   "source": [
    "import pandas as pd\n",
    "import numpy as np"
   ]
  },
  {
   "cell_type": "code",
   "execution_count": 24,
   "metadata": {},
   "outputs": [
    {
     "data": {
      "text/html": [
       "<div>\n",
       "<style scoped>\n",
       "    .dataframe tbody tr th:only-of-type {\n",
       "        vertical-align: middle;\n",
       "    }\n",
       "\n",
       "    .dataframe tbody tr th {\n",
       "        vertical-align: top;\n",
       "    }\n",
       "\n",
       "    .dataframe thead th {\n",
       "        text-align: right;\n",
       "    }\n",
       "</style>\n",
       "<table border=\"1\" class=\"dataframe\">\n",
       "  <thead>\n",
       "    <tr style=\"text-align: right;\">\n",
       "      <th></th>\n",
       "      <th>cgpa</th>\n",
       "      <th>profile_score</th>\n",
       "      <th>placed</th>\n",
       "    </tr>\n",
       "  </thead>\n",
       "  <tbody>\n",
       "    <tr>\n",
       "      <th>0</th>\n",
       "      <td>8</td>\n",
       "      <td>8</td>\n",
       "      <td>1</td>\n",
       "    </tr>\n",
       "    <tr>\n",
       "      <th>1</th>\n",
       "      <td>7</td>\n",
       "      <td>9</td>\n",
       "      <td>1</td>\n",
       "    </tr>\n",
       "    <tr>\n",
       "      <th>2</th>\n",
       "      <td>7</td>\n",
       "      <td>7</td>\n",
       "      <td>0</td>\n",
       "    </tr>\n",
       "    <tr>\n",
       "      <th>3</th>\n",
       "      <td>5</td>\n",
       "      <td>12</td>\n",
       "      <td>0</td>\n",
       "    </tr>\n",
       "  </tbody>\n",
       "</table>\n",
       "</div>"
      ],
      "text/plain": [
       "   cgpa  profile_score  placed\n",
       "0     8              8       1\n",
       "1     7              9       1\n",
       "2     7              7       0\n",
       "3     5             12       0"
      ]
     },
     "execution_count": 24,
     "metadata": {},
     "output_type": "execute_result"
    }
   ],
   "source": [
    "df = pd.DataFrame([[8,8,1],[7,9,1],[7,7,0],[5,12,0]], columns= ['cgpa', 'profile_score', 'placed'])\n",
    "df"
   ]
  },
  {
   "cell_type": "code",
   "execution_count": 25,
   "metadata": {},
   "outputs": [],
   "source": [
    "def initialize(layer_dims):\n",
    "    L = len(layer_dims)\n",
    "    param = {}\n",
    "    for l in range (1, L):\n",
    "        param['W'+str(l)] = np.ones((layer_dims[l-1], layer_dims[l]))*0.1\n",
    "        param['b'+str(l)] = np.zeros((layer_dims[l],1))\n",
    "    return param"
   ]
  },
  {
   "cell_type": "code",
   "execution_count": 26,
   "metadata": {},
   "outputs": [
    {
     "data": {
      "text/plain": [
       "{'W1': array([[0.1, 0.1],\n",
       "        [0.1, 0.1]]),\n",
       " 'b1': array([[0.],\n",
       "        [0.]]),\n",
       " 'W2': array([[0.1],\n",
       "        [0.1]]),\n",
       " 'b2': array([[0.]])}"
      ]
     },
     "execution_count": 26,
     "metadata": {},
     "output_type": "execute_result"
    }
   ],
   "source": [
    "param = initialize([2,2,1])\n",
    "param"
   ]
  },
  {
   "cell_type": "code",
   "execution_count": 27,
   "metadata": {},
   "outputs": [],
   "source": [
    "def output(z):\n",
    "    return 1/(1+np.exp(-z)) "
   ]
  },
  {
   "cell_type": "code",
   "execution_count": 28,
   "metadata": {},
   "outputs": [],
   "source": [
    "def pred(A1, W, b):\n",
    "    predicted = np.dot(W.T, A1) + b\n",
    "    return predicted"
   ]
  },
  {
   "cell_type": "code",
   "execution_count": 32,
   "metadata": {},
   "outputs": [],
   "source": [
    "def forward_prop(param, X):\n",
    "    A = X\n",
    "    L = len(param) // 2\n",
    "    for l in range (1,L+1):\n",
    "        A_prev = A\n",
    "        W = param['W' + str(l)]\n",
    "        b = param['b' + str(l)]\n",
    "        A = pred(A_prev, W, b)\n",
    "    return A, A_prev"
   ]
  },
  {
   "cell_type": "code",
   "execution_count": 38,
   "metadata": {},
   "outputs": [],
   "source": [
    "def update(param, y, y_hat, A1, X):\n",
    "    h = 0.001*(y - y_hat)\n",
    "    param['W1'][0][0] = param['W1'][0][0] + h*param['W2'][0][0]*A1[0][0]*(1-A1[0][0])*X[0][0]\n",
    "    param['W1'][0][1] = param['W1'][0][1] + h*param['W2'][0][0]*A1[0][0]*(1-A1[0][0])*X[1][0]\n",
    "    param['b1'][0][0] = param['b1'][0][0] + h*param['W2'][0][0]*A1[0][0]*(1-A1[0][0])\n",
    "    \n",
    "    param['W1'][1][0] = param['W1'][1][0] + h*param['W2'][1][0]*A1[1][0]*(1-A1[1][0])*X[0][0]\n",
    "    param['W1'][1][1] = param['W1'][1][1] + h*param['W2'][1][0]*A1[1][0]*(1-A1[1][0])*X[1][0]\n",
    "    param['b1'][1][0] = param['b1'][1][0] + h*param['W2'][1][0]*A1[1][0]*(1-A1[1][0])\n",
    "    \n",
    "    param['W2'][0][0] = param['W2'][0][0] + h*A1[0][0]\n",
    "    param['W2'][1][0] = param['W2'][1][0] + h*A1[1][0]\n",
    "    param['b2'][0][0] = param['W2'][1][0] + h\n"
   ]
  },
  {
   "cell_type": "code",
   "execution_count": 39,
   "metadata": {},
   "outputs": [
    {
     "name": "stdout",
     "output_type": "stream",
     "text": [
      "Loss for this student -  1.1394342831883646\n"
     ]
    },
    {
     "data": {
      "text/plain": [
       "{'W1': array([[0.09947776, 0.09947776],\n",
       "        [0.09947776, 0.09947776]]),\n",
       " 'b1': array([[-6.528e-05],\n",
       "        [-6.528e-05]]),\n",
       " 'W2': array([[0.101088],\n",
       "        [0.101088]]),\n",
       " 'b2': array([[0.101768]])}"
      ]
     },
     "execution_count": 39,
     "metadata": {},
     "output_type": "execute_result"
    }
   ],
   "source": [
    "X = df[['cgpa', 'profile_score']].values[0].reshape(2,1) # Shape(no of features, no. of training example)\n",
    "y = df[['placed']].values[0][0]\n",
    "\n",
    "# Parameter initialization\n",
    "param = initialize([2,2,1])\n",
    "\n",
    "y_hat,A1 = forward_prop(param,X)\n",
    "y_hat = y_hat[0][0]\n",
    "\n",
    "update(param,y,y_hat,A1,X)\n",
    "\n",
    "print('Loss for this student - ',-y*np.log(y_hat) - (1-y)*np.log(1-y_hat))\n",
    "\n",
    "param"
   ]
  },
  {
   "cell_type": "code",
   "execution_count": 40,
   "metadata": {},
   "outputs": [
    {
     "name": "stdout",
     "output_type": "stream",
     "text": [
      "Loss for this student -  1.1394342831883646\n"
     ]
    },
    {
     "data": {
      "text/plain": [
       "{'W1': array([[0.09954304, 0.09941248],\n",
       "        [0.09954304, 0.09941248]]),\n",
       " 'b1': array([[-6.528e-05],\n",
       "        [-6.528e-05]]),\n",
       " 'W2': array([[0.101088],\n",
       "        [0.101088]]),\n",
       " 'b2': array([[0.101768]])}"
      ]
     },
     "execution_count": 40,
     "metadata": {},
     "output_type": "execute_result"
    }
   ],
   "source": [
    "X = df[['cgpa', 'profile_score']].values[1].reshape(2,1) # Shape(no of features, no. of training example)\n",
    "y = df[['placed']].values[1][0]\n",
    "\n",
    "# Parameter initialization\n",
    "param = initialize([2,2,1])\n",
    "\n",
    "y_hat,A1 = forward_prop(param,X)\n",
    "y_hat = y_hat[0][0]\n",
    "\n",
    "update(param,y,y_hat,A1,X)\n",
    "\n",
    "print('Loss for this student - ',-y*np.log(y_hat) - (1-y)*np.log(1-y_hat))\n",
    "\n",
    "param"
   ]
  },
  {
   "cell_type": "code",
   "execution_count": 41,
   "metadata": {},
   "outputs": [
    {
     "name": "stdout",
     "output_type": "stream",
     "text": [
      "Loss for this student -  0.3285040669720361\n"
     ]
    },
    {
     "data": {
      "text/plain": [
       "{'W1': array([[0.10010976, 0.10010976],\n",
       "        [0.10010976, 0.10010976]]),\n",
       " 'b1': array([[1.568e-05],\n",
       "        [1.568e-05]]),\n",
       " 'W2': array([[0.099608],\n",
       "        [0.099608]]),\n",
       " 'b2': array([[0.099328]])}"
      ]
     },
     "execution_count": 41,
     "metadata": {},
     "output_type": "execute_result"
    }
   ],
   "source": [
    "X = df[['cgpa', 'profile_score']].values[2].reshape(2,1) # Shape(no of features, no. of training example)\n",
    "y = df[['placed']].values[2][0]\n",
    "\n",
    "# Parameter initialization\n",
    "param = initialize([2,2,1])\n",
    "\n",
    "y_hat,A1 = forward_prop(param,X)\n",
    "y_hat = y_hat[0][0]\n",
    "\n",
    "update(param,y,y_hat,A1,X)\n",
    "\n",
    "print('Loss for this student - ',-y*np.log(y_hat) - (1-y)*np.log(1-y_hat))\n",
    "\n",
    "param"
   ]
  },
  {
   "cell_type": "code",
   "execution_count": 42,
   "metadata": {},
   "outputs": [
    {
     "name": "stdout",
     "output_type": "stream",
     "text": [
      "Loss for this student -  0.41551544396166595\n"
     ]
    },
    {
     "data": {
      "text/plain": [
       "{'W1': array([[0.1002023 , 0.10048552],\n",
       "        [0.1002023 , 0.10048552]]),\n",
       " 'b1': array([[4.046e-05],\n",
       "        [4.046e-05]]),\n",
       " 'W2': array([[0.099422],\n",
       "        [0.099422]]),\n",
       " 'b2': array([[0.099082]])}"
      ]
     },
     "execution_count": 42,
     "metadata": {},
     "output_type": "execute_result"
    }
   ],
   "source": [
    "X = df[['cgpa', 'profile_score']].values[3].reshape(2,1) # Shape(no of features, no. of training example)\n",
    "y = df[['placed']].values[3][0]\n",
    "\n",
    "# Parameter initialization\n",
    "param = initialize([2,2,1])\n",
    "\n",
    "y_hat,A1 = forward_prop(param,X)\n",
    "y_hat = y_hat[0][0]\n",
    "\n",
    "update(param,y,y_hat,A1,X)\n",
    "\n",
    "print('Loss for this student - ',-y*np.log(y_hat) - (1-y)*np.log(1-y_hat))\n",
    "\n",
    "param"
   ]
  },
  {
   "cell_type": "code",
   "execution_count": 44,
   "metadata": {},
   "outputs": [
    {
     "name": "stdout",
     "output_type": "stream",
     "text": [
      "Epoch -  1 Loss -  0.7677524322780789\n",
      "Epoch -  2 Loss -  0.6993321229172552\n",
      "Epoch -  3 Loss -  0.698845816244681\n",
      "Epoch -  4 Loss -  0.6983785364492598\n",
      "Epoch -  5 Loss -  0.697929281279644\n",
      "Epoch -  6 Loss -  0.6974971124394314\n",
      "Epoch -  7 Loss -  0.6970811508025302\n",
      "Epoch -  8 Loss -  0.696680572038692\n",
      "Epoch -  9 Loss -  0.6962946026096342\n",
      "Epoch -  10 Loss -  0.6959225161004475\n",
      "Epoch -  11 Loss -  0.6955636298547175\n",
      "Epoch -  12 Loss -  0.6952173018850751\n",
      "Epoch -  13 Loss -  0.6948829280338181\n",
      "Epoch -  14 Loss -  0.6945599393608275\n",
      "Epoch -  15 Loss -  0.694247799738309\n",
      "Epoch -  16 Loss -  0.6939460036339238\n",
      "Epoch -  17 Loss -  0.6936540740657057\n",
      "Epoch -  18 Loss -  0.6933715607137774\n",
      "Epoch -  19 Loss -  0.6930980381753302\n",
      "Epoch -  20 Loss -  0.6928331043506287\n",
      "Epoch -  21 Loss -  0.6925763789489612\n",
      "Epoch -  22 Loss -  0.6923275021044966\n",
      "Epoch -  23 Loss -  0.6920861330929378\n",
      "Epoch -  24 Loss -  0.6918519491407042\n",
      "Epoch -  25 Loss -  0.6916246443191267\n",
      "Epoch -  26 Loss -  0.691403928516811\n",
      "Epoch -  27 Loss -  0.6911895264839478\n",
      "Epoch -  28 Loss -  0.6909811769428889\n",
      "Epoch -  29 Loss -  0.6907786317598058\n",
      "Epoch -  30 Loss -  0.6905816551727095\n",
      "Epoch -  31 Loss -  0.6903900230714971\n",
      "Epoch -  32 Loss -  0.6902035223260785\n",
      "Epoch -  33 Loss -  0.6900219501589573\n",
      "Epoch -  34 Loss -  0.6898451135589492\n",
      "Epoch -  35 Loss -  0.6896728287329956\n",
      "Epoch -  36 Loss -  0.6895049205932776\n",
      "Epoch -  37 Loss -  0.6893412222770665\n",
      "Epoch -  38 Loss -  0.6891815746969525\n",
      "Epoch -  39 Loss -  0.689025826119282\n",
      "Epoch -  40 Loss -  0.6888738317688053\n",
      "Epoch -  41 Loss -  0.6887254534576981\n",
      "Epoch -  42 Loss -  0.6885805592372556\n",
      "Epoch -  43 Loss -  0.6884390230707002\n",
      "Epoch -  44 Loss -  0.6883007245256505\n",
      "Epoch -  45 Loss -  0.6881655484849263\n",
      "Epoch -  46 Loss -  0.6880333848744451\n",
      "Epoch -  47 Loss -  0.6879041284070773\n",
      "Epoch -  48 Loss -  0.6877776783413985\n",
      "Epoch -  49 Loss -  0.6876539382543613\n",
      "Epoch -  50 Loss -  0.6875328158269794\n"
     ]
    },
    {
     "data": {
      "text/plain": [
       "{'W1': array([[0.0853396 , 0.09623151],\n",
       "        [0.08151288, 0.09556171]]),\n",
       " 'b1': array([[-0.00118944],\n",
       "        [-0.00146911]]),\n",
       " 'W2': array([[0.11921049],\n",
       "        [0.12034366]]),\n",
       " 'b2': array([[0.11985945]])}"
      ]
     },
     "execution_count": 44,
     "metadata": {},
     "output_type": "execute_result"
    }
   ],
   "source": [
    "param = initialize([2,2,1])\n",
    "epochs = 50\n",
    "\n",
    "for i in range(epochs):\n",
    "\n",
    "  Loss = []\n",
    "\n",
    "  for j in range(df.shape[0]):\n",
    "\n",
    "    X = df[['cgpa', 'profile_score']].values[j].reshape(2,1) # Shape(no of features, no. of training example)\n",
    "    y = df[['placed']].values[j][0]\n",
    "\n",
    "    # Parameter initialization\n",
    "\n",
    "\n",
    "    y_hat,A1 = forward_prop(param, X)\n",
    "    y_hat = y_hat[0][0]\n",
    "\n",
    "    update(param,y,y_hat,A1,X)\n",
    "\n",
    "    Loss.append(-y*np.log(y_hat) - (1-y)*np.log(1-y_hat))\n",
    "\n",
    "  print('Epoch - ',i+1,'Loss - ',np.array(Loss).mean())\n",
    "\n",
    "param"
   ]
  }
 ],
 "metadata": {
  "kernelspec": {
   "display_name": "base",
   "language": "python",
   "name": "python3"
  },
  "language_info": {
   "codemirror_mode": {
    "name": "ipython",
    "version": 3
   },
   "file_extension": ".py",
   "mimetype": "text/x-python",
   "name": "python",
   "nbconvert_exporter": "python",
   "pygments_lexer": "ipython3",
   "version": "3.12.7"
  }
 },
 "nbformat": 4,
 "nbformat_minor": 2
}
