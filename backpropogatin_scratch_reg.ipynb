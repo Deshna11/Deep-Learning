{
 "cells": [
  {
   "cell_type": "code",
   "execution_count": 42,
   "metadata": {},
   "outputs": [],
   "source": [
    "import pandas as pd\n",
    "import numpy as np"
   ]
  },
  {
   "cell_type": "code",
   "execution_count": 43,
   "metadata": {},
   "outputs": [
    {
     "data": {
      "text/html": [
       "<div>\n",
       "<style scoped>\n",
       "    .dataframe tbody tr th:only-of-type {\n",
       "        vertical-align: middle;\n",
       "    }\n",
       "\n",
       "    .dataframe tbody tr th {\n",
       "        vertical-align: top;\n",
       "    }\n",
       "\n",
       "    .dataframe thead th {\n",
       "        text-align: right;\n",
       "    }\n",
       "</style>\n",
       "<table border=\"1\" class=\"dataframe\">\n",
       "  <thead>\n",
       "    <tr style=\"text-align: right;\">\n",
       "      <th></th>\n",
       "      <th>cgpa</th>\n",
       "      <th>profile_score</th>\n",
       "      <th>lpa</th>\n",
       "    </tr>\n",
       "  </thead>\n",
       "  <tbody>\n",
       "    <tr>\n",
       "      <th>0</th>\n",
       "      <td>8</td>\n",
       "      <td>8</td>\n",
       "      <td>4</td>\n",
       "    </tr>\n",
       "    <tr>\n",
       "      <th>1</th>\n",
       "      <td>7</td>\n",
       "      <td>9</td>\n",
       "      <td>5</td>\n",
       "    </tr>\n",
       "    <tr>\n",
       "      <th>2</th>\n",
       "      <td>7</td>\n",
       "      <td>7</td>\n",
       "      <td>6</td>\n",
       "    </tr>\n",
       "    <tr>\n",
       "      <th>3</th>\n",
       "      <td>5</td>\n",
       "      <td>12</td>\n",
       "      <td>7</td>\n",
       "    </tr>\n",
       "  </tbody>\n",
       "</table>\n",
       "</div>"
      ],
      "text/plain": [
       "   cgpa  profile_score  lpa\n",
       "0     8              8    4\n",
       "1     7              9    5\n",
       "2     7              7    6\n",
       "3     5             12    7"
      ]
     },
     "execution_count": 43,
     "metadata": {},
     "output_type": "execute_result"
    }
   ],
   "source": [
    "df = pd.DataFrame([[8,8,4],[7,9,5],[7,7,6],[5,12,7]], columns= ['cgpa', 'profile_score', 'lpa'])\n",
    "df"
   ]
  },
  {
   "cell_type": "code",
   "execution_count": 44,
   "metadata": {},
   "outputs": [],
   "source": [
    "def initialize(layer_dims):\n",
    "    np.random.seed(3)\n",
    "    param = {}\n",
    "    L = len(layer_dims)\n",
    "    for l in range(1,L):\n",
    "        param['W'+str(l)] = np.ones((layer_dims[l-1], layer_dims[l]))*0.1\n",
    "        param['b'+str(l)] = np.zeros((layer_dims[l],1))\n",
    "    return param"
   ]
  },
  {
   "cell_type": "code",
   "execution_count": 45,
   "metadata": {},
   "outputs": [
    {
     "data": {
      "text/plain": [
       "{'W1': array([[0.1, 0.1],\n",
       "        [0.1, 0.1]]),\n",
       " 'b1': array([[0.],\n",
       "        [0.]]),\n",
       " 'W2': array([[0.1],\n",
       "        [0.1]]),\n",
       " 'b2': array([[0.]])}"
      ]
     },
     "execution_count": 45,
     "metadata": {},
     "output_type": "execute_result"
    }
   ],
   "source": [
    "initialize([2,2,1])"
   ]
  },
  {
   "cell_type": "code",
   "execution_count": 46,
   "metadata": {},
   "outputs": [],
   "source": [
    "def predict(A_prev, W, b):\n",
    "    z = np.dot(W.T, A_prev) + b\n",
    "    return z"
   ]
  },
  {
   "cell_type": "code",
   "execution_count": 47,
   "metadata": {},
   "outputs": [],
   "source": [
    "def forward_prop(X, param):\n",
    "    A = X\n",
    "    L = len(param) // 2 \n",
    "    for l in range (1, L+1):\n",
    "        A_prev = A\n",
    "        W = param['W'+str(l)]\n",
    "        b = param['b'+str(l)]\n",
    "        A = predict(A_prev, W, b)\n",
    "    return A, A_prev"
   ]
  },
  {
   "cell_type": "code",
   "execution_count": 48,
   "metadata": {},
   "outputs": [],
   "source": [
    "X = df[['cgpa', 'profile_score']].values[0].reshape(2,1)\n",
    "y = df[['lpa']].values[0][0]\n",
    "param = initialize([2,2,1])\n",
    "y_hat, A1 = forward_prop(X, param)"
   ]
  },
  {
   "cell_type": "code",
   "execution_count": 49,
   "metadata": {},
   "outputs": [
    {
     "name": "stdout",
     "output_type": "stream",
     "text": [
      "[[0.32]]\n",
      "[[1.6]\n",
      " [1.6]]\n"
     ]
    }
   ],
   "source": [
    "print(y_hat)\n",
    "print(A1)"
   ]
  },
  {
   "cell_type": "code",
   "execution_count": 56,
   "metadata": {},
   "outputs": [],
   "source": [
    "def update_parameters(param,y,y_hat,A1,X):\n",
    "  param['W2'][0][0] = param['W2'][0][0] + (0.001 * 2 * (y - y_hat)*A1[0][0])\n",
    "  param['W2'][1][0] = param['W2'][1][0] + (0.001 * 2 * (y - y_hat)*A1[1][0])\n",
    "  param['b2'][0][0] = param['W2'][1][0] + (0.001 * 2 * (y - y_hat))\n",
    "\n",
    "  param['W1'][0][0] = param['W1'][0][0] + (0.001 * 2 * (y - y_hat)*param['W2'][0][0]*X[0][0])\n",
    "  param['W1'][0][1] = param['W1'][0][1] + (0.001 * 2 * (y - y_hat)*param['W2'][1][0]*X[1][0])\n",
    "  param['b1'][0][0] = param['b1'][0][0] + (0.001 * 2 * (y - y_hat)*param['W2'][0][0])\n",
    "\n",
    "  param['W1'][1][0] = param['W1'][1][0] + (0.001 * 2 * (y - y_hat)*param['W2'][1][0]*X[0][0])\n",
    "  param['W1'][1][1] = param['W1'][1][1] + (0.001 * 2 * (y - y_hat)*param['W2'][1][0]*X[1][0])\n",
    "  param['b1'][1][0] = param['b1'][1][0] + (0.001 * 2 * (y - y_hat)*param['W2'][1][0])"
   ]
  },
  {
   "cell_type": "code",
   "execution_count": 58,
   "metadata": {},
   "outputs": [
    {
     "name": "stderr",
     "output_type": "stream",
     "text": [
      "/var/folders/cl/nx895lk15wz0q6n08sgg8vtr0000gn/T/ipykernel_8655/4029133541.py:2: DeprecationWarning: Conversion of an array with ndim > 0 to a scalar is deprecated, and will error in future. Ensure you extract a single element from your array before performing this operation. (Deprecated NumPy 1.25.)\n",
      "  param['W2'][0][0] = param['W2'][0][0] + (0.001 * 2 * (y - y_hat)*A1[0][0])\n",
      "/var/folders/cl/nx895lk15wz0q6n08sgg8vtr0000gn/T/ipykernel_8655/4029133541.py:3: DeprecationWarning: Conversion of an array with ndim > 0 to a scalar is deprecated, and will error in future. Ensure you extract a single element from your array before performing this operation. (Deprecated NumPy 1.25.)\n",
      "  param['W2'][1][0] = param['W2'][1][0] + (0.001 * 2 * (y - y_hat)*A1[1][0])\n",
      "/var/folders/cl/nx895lk15wz0q6n08sgg8vtr0000gn/T/ipykernel_8655/4029133541.py:4: DeprecationWarning: Conversion of an array with ndim > 0 to a scalar is deprecated, and will error in future. Ensure you extract a single element from your array before performing this operation. (Deprecated NumPy 1.25.)\n",
      "  param['b2'][0][0] = param['W2'][1][0] + (0.001 * 2 * (y - y_hat))\n",
      "/var/folders/cl/nx895lk15wz0q6n08sgg8vtr0000gn/T/ipykernel_8655/4029133541.py:6: DeprecationWarning: Conversion of an array with ndim > 0 to a scalar is deprecated, and will error in future. Ensure you extract a single element from your array before performing this operation. (Deprecated NumPy 1.25.)\n",
      "  param['W1'][0][0] = param['W1'][0][0] + (0.001 * 2 * (y - y_hat)*param['W2'][0][0]*X[0][0])\n",
      "/var/folders/cl/nx895lk15wz0q6n08sgg8vtr0000gn/T/ipykernel_8655/4029133541.py:7: DeprecationWarning: Conversion of an array with ndim > 0 to a scalar is deprecated, and will error in future. Ensure you extract a single element from your array before performing this operation. (Deprecated NumPy 1.25.)\n",
      "  param['W1'][0][1] = param['W1'][0][1] + (0.001 * 2 * (y - y_hat)*param['W2'][1][0]*X[1][0])\n",
      "/var/folders/cl/nx895lk15wz0q6n08sgg8vtr0000gn/T/ipykernel_8655/4029133541.py:8: DeprecationWarning: Conversion of an array with ndim > 0 to a scalar is deprecated, and will error in future. Ensure you extract a single element from your array before performing this operation. (Deprecated NumPy 1.25.)\n",
      "  param['b1'][0][0] = param['b1'][0][0] + (0.001 * 2 * (y - y_hat)*param['W2'][0][0])\n",
      "/var/folders/cl/nx895lk15wz0q6n08sgg8vtr0000gn/T/ipykernel_8655/4029133541.py:10: DeprecationWarning: Conversion of an array with ndim > 0 to a scalar is deprecated, and will error in future. Ensure you extract a single element from your array before performing this operation. (Deprecated NumPy 1.25.)\n",
      "  param['W1'][1][0] = param['W1'][1][0] + (0.001 * 2 * (y - y_hat)*param['W2'][1][0]*X[0][0])\n",
      "/var/folders/cl/nx895lk15wz0q6n08sgg8vtr0000gn/T/ipykernel_8655/4029133541.py:11: DeprecationWarning: Conversion of an array with ndim > 0 to a scalar is deprecated, and will error in future. Ensure you extract a single element from your array before performing this operation. (Deprecated NumPy 1.25.)\n",
      "  param['W1'][1][1] = param['W1'][1][1] + (0.001 * 2 * (y - y_hat)*param['W2'][1][0]*X[1][0])\n",
      "/var/folders/cl/nx895lk15wz0q6n08sgg8vtr0000gn/T/ipykernel_8655/4029133541.py:12: DeprecationWarning: Conversion of an array with ndim > 0 to a scalar is deprecated, and will error in future. Ensure you extract a single element from your array before performing this operation. (Deprecated NumPy 1.25.)\n",
      "  param['b1'][1][0] = param['b1'][1][0] + (0.001 * 2 * (y - y_hat)*param['W2'][1][0])\n"
     ]
    },
    {
     "data": {
      "text/plain": [
       "{'W1': array([[0.13325919, 0.13048571],\n",
       "        [0.12390434, 0.1166296 ]]),\n",
       " 'b1': array([[0.0041574],\n",
       "        [0.0020787]]),\n",
       " 'W2': array([[0.15888 ],\n",
       "        [0.147104]]),\n",
       " 'b2': array([[0.154464]])}"
      ]
     },
     "execution_count": 58,
     "metadata": {},
     "output_type": "execute_result"
    }
   ],
   "source": [
    "update_parameters(param,y,y_hat,A1,X)\n",
    "param"
   ]
  },
  {
   "cell_type": "code",
   "execution_count": 59,
   "metadata": {},
   "outputs": [
    {
     "data": {
      "text/plain": [
       "{'W1': array([[0.1436973 , 0.14295339],\n",
       "        [0.13360143, 0.12909728]]),\n",
       " 'b1': array([[0.00564856],\n",
       "        [0.003464  ]]),\n",
       " 'W2': array([[0.17624256],\n",
       "        [0.16373076]]),\n",
       " 'b2': array([[0.17219159]])}"
      ]
     },
     "execution_count": 59,
     "metadata": {},
     "output_type": "execute_result"
    }
   ],
   "source": [
    "X = df[['cgpa', 'profile_score']].values[1].reshape(2,1) # Shape(no of features, no. of training exaplme)\n",
    "y = df[['lpa']].values[1][0]\n",
    "\n",
    "y_hat,A1 = forward_prop(X,param)\n",
    "y_hat = y_hat[0][0]\n",
    "\n",
    "update_parameters(param,y,y_hat,A1,X)\n",
    "\n",
    "param"
   ]
  },
  {
   "cell_type": "code",
   "execution_count": 60,
   "metadata": {},
   "outputs": [
    {
     "data": {
      "text/plain": [
       "{'W1': array([[0.1579178 , 0.15623872],\n",
       "        [0.14688675, 0.1423826 ]]),\n",
       " 'b1': array([[0.00768006],\n",
       "        [0.0053619 ]]),\n",
       " 'W2': array([[0.19638097],\n",
       "        [0.18346654]]),\n",
       " 'b2': array([[0.19381122]])}"
      ]
     },
     "execution_count": 60,
     "metadata": {},
     "output_type": "execute_result"
    }
   ],
   "source": [
    "X = df[['cgpa', 'profile_score']].values[2].reshape(2,1) # Shape(no of features, no. of training exaplme)\n",
    "y = df[['lpa']].values[2][0]\n",
    "\n",
    "y_hat,A1 = forward_prop(X,param)\n",
    "y_hat = y_hat[0][0]\n",
    "\n",
    "update_parameters(param,y,y_hat,A1,X)\n",
    "\n",
    "param"
   ]
  },
  {
   "cell_type": "code",
   "execution_count": 61,
   "metadata": {},
   "outputs": [
    {
     "data": {
      "text/plain": [
       "{'W1': array([[0.17114718, 0.18607116],\n",
       "        [0.15931693, 0.17221505]]),\n",
       " 'b1': array([[0.01032593],\n",
       "        [0.00784794]]),\n",
       " 'W2': array([[0.22630988],\n",
       "        [0.21263828]]),\n",
       " 'b2': array([[0.22432967]])}"
      ]
     },
     "execution_count": 61,
     "metadata": {},
     "output_type": "execute_result"
    }
   ],
   "source": [
    "X = df[['cgpa', 'profile_score']].values[3].reshape(2,1) # Shape(no of features, no. of training exaplme)\n",
    "y = df[['lpa']].values[3][0]\n",
    "\n",
    "y_hat,A1 = forward_prop(X,param)\n",
    "y_hat = y_hat[0][0]\n",
    "\n",
    "update_parameters(param,y,y_hat,A1,X)\n",
    "\n",
    "param"
   ]
  },
  {
   "cell_type": "code",
   "execution_count": 63,
   "metadata": {},
   "outputs": [
    {
     "name": "stdout",
     "output_type": "stream",
     "text": [
      "Epoch -  1 Loss -  25.544586095909395\n",
      "Epoch -  2 Loss -  19.008574664980703\n",
      "Epoch -  3 Loss -  10.544307915211418\n",
      "Epoch -  4 Loss -  4.063520486518691\n",
      "Epoch -  5 Loss -  1.770025375315547\n"
     ]
    },
    {
     "data": {
      "text/plain": [
       "{'W1': array([[0.28455168, 0.38942705],\n",
       "        [0.29499851, 0.38942705]]),\n",
       " 'b1': array([[0.02910915],\n",
       "        [0.03081378]]),\n",
       " 'W2': array([[0.42292793],\n",
       "        [0.47572485]]),\n",
       " 'b2': array([[0.47911773]])}"
      ]
     },
     "execution_count": 63,
     "metadata": {},
     "output_type": "execute_result"
    }
   ],
   "source": [
    "param = initialize([2,2,1])\n",
    "epochs = 5\n",
    "\n",
    "for i in range(epochs):\n",
    "\n",
    "  Loss = []\n",
    "\n",
    "  for j in range(df.shape[0]):\n",
    "\n",
    "    X = df[['cgpa', 'profile_score']].values[j].reshape(2,1) # Shape(no of features, no. of training example)\n",
    "    y = df[['lpa']].values[j][0]\n",
    "\n",
    "    # Parameter initialization\n",
    "\n",
    "\n",
    "    y_hat,A1 = forward_prop(X,param)\n",
    "    y_hat = y_hat[0][0]\n",
    "\n",
    "    update_parameters(param,y,y_hat,A1,X)\n",
    "\n",
    "    Loss.append((y-y_hat)**2)\n",
    "\n",
    "  print('Epoch - ',i+1,'Loss - ',np.array(Loss).mean())\n",
    "\n",
    "param"
   ]
  }
 ],
 "metadata": {
  "kernelspec": {
   "display_name": "base",
   "language": "python",
   "name": "python3"
  },
  "language_info": {
   "codemirror_mode": {
    "name": "ipython",
    "version": 3
   },
   "file_extension": ".py",
   "mimetype": "text/x-python",
   "name": "python",
   "nbconvert_exporter": "python",
   "pygments_lexer": "ipython3",
   "version": "3.12.7"
  }
 },
 "nbformat": 4,
 "nbformat_minor": 2
}
